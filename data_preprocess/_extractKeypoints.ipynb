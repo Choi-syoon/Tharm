{
 "cells": [
  {
   "cell_type": "code",
   "execution_count": 17,
   "metadata": {},
   "outputs": [],
   "source": [
    "import os\n",
    "import cv2\n",
    "import argparse\n",
    "import numpy as np\n",
    "import pandas as pd\n",
    "import mediapipe as mp\n",
    "\n",
    "from tqdm import tqdm\n",
    "from sklearn.preprocessing import MinMaxScaler"
   ]
  },
  {
   "cell_type": "code",
   "execution_count": 20,
   "metadata": {},
   "outputs": [],
   "source": [
    "# define paths\n",
    "SOURCE_PATH = \"C:/Users/user/Desktop/수어 데이터셋/test\"\n",
    "DEST_PATH = \"../data_preprocess/dummy_data\""
   ]
  },
  {
   "cell_type": "code",
   "execution_count": 21,
   "metadata": {},
   "outputs": [],
   "source": [
    "def norm(npy):  # keypoints normalization\n",
    "    scaler = MinMaxScaler()\n",
    "    scaled_npy = scaler.fit_transform(npy)\n",
    "    return scaled_npy    "
   ]
  },
  {
   "cell_type": "code",
   "execution_count": 25,
   "metadata": {},
   "outputs": [
    {
     "name": "stderr",
     "output_type": "stream",
     "text": [
      "  0%|          | 0/1 [00:00<?, ?it/s]c:\\Users\\user\\anaconda3\\envs\\venv1\\lib\\site-packages\\google\\protobuf\\symbol_database.py:55: UserWarning: SymbolDatabase.GetPrototype() is deprecated. Please use message_factory.GetMessageClass() instead. SymbolDatabase.GetPrototype() will be removed soon.\n",
      "  warnings.warn('SymbolDatabase.GetPrototype() is deprecated. Please '\n",
      "100%|██████████| 1/1 [00:08<00:00,  8.14s/it]\n"
     ]
    }
   ],
   "source": [
    "hands_keypoints = []\n",
    "pose_keypoints = []\n",
    "\n",
    "for file in tqdm(os.listdir(SOURCE_PATH)):\n",
    "    filename = str(os.path.splitext(file)[0])\n",
    "    filepath = os.path.join(SOURCE_PATH, file)\n",
    "    cap = cv2.VideoCapture(filepath)\n",
    "\n",
    "    mp_hands = mp.solutions.hands\n",
    "    mp_pose = mp.solutions.pose\n",
    "\n",
    "    hands = mp_hands.Hands(max_num_hands=2, min_detection_confidence=0.5, min_tracking_confidence=0.5)\n",
    "    pose = mp_pose.Pose(min_detection_confidence=0.5, min_tracking_confidence=0.5)\n",
    "\n",
    "    while True:\n",
    "        opened, image = cap.read()\n",
    "        if not opened:\n",
    "            break\n",
    "\n",
    "        image_rgb = cv2.cvtColor(image, cv2.COLOR_BGR2RGB)\n",
    "        hand_results = hands.process(image_rgb)\n",
    "        pose_results = pose.process(image_rgb)\n",
    "\n",
    "        if hand_results.multi_hand_landmarks:\n",
    "            for hand_landmarks in hand_results.multi_hand_landmarks:\n",
    "                for landmark in hand_landmarks.landmark:\n",
    "                    hands_keypoints.append([landmark.x, landmark.y, landmark.z])\n",
    "\n",
    "        if pose_results.pose_landmarks:\n",
    "            for landmark in pose_results.pose_landmarks.landmark:\n",
    "                pose_keypoints.append([landmark.x, landmark.y, landmark.z])\n",
    "\n",
    "    cap.release()\n",
    "\n",
    "    norm_hands_keypoints = norm(hands_keypoints)\n",
    "    norm_pose_keypoints = norm(pose_keypoints)\n",
    "    np.save(DEST_PATH + \"/\" + filename + \"_hands.npy\", norm_hands_keypoints)\n",
    "    np.save(DEST_PATH + \"/\" + filename + \"_pose.npy\", norm_pose_keypoints)\n",
    "\n",
    "hands.close()\n",
    "pose.close()"
   ]
  },
  {
   "cell_type": "code",
   "execution_count": null,
   "metadata": {},
   "outputs": [],
   "source": []
  }
 ],
 "metadata": {
  "kernelspec": {
   "display_name": "venv1",
   "language": "python",
   "name": "python3"
  },
  "language_info": {
   "codemirror_mode": {
    "name": "ipython",
    "version": 3
   },
   "file_extension": ".py",
   "mimetype": "text/x-python",
   "name": "python",
   "nbconvert_exporter": "python",
   "pygments_lexer": "ipython3",
   "version": "3.10.14"
  }
 },
 "nbformat": 4,
 "nbformat_minor": 2
}
